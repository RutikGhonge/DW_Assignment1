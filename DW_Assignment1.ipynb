{
 "cells": [
  {
   "cell_type": "markdown",
   "id": "d4ca428f",
   "metadata": {},
   "source": [
    "### 1. Create a null vector of size 10 but the fifth value which is 1."
   ]
  },
  {
   "cell_type": "code",
   "execution_count": 1,
   "id": "9a96e503",
   "metadata": {},
   "outputs": [
    {
     "name": "stdout",
     "output_type": "stream",
     "text": [
      "[0. 0. 0. 0. 1. 0. 0. 0. 0. 0.]\n"
     ]
    }
   ],
   "source": [
    "import numpy as np\n",
    "x=np.zeros(10) \n",
    "x[4]=1  \n",
    "print(x)"
   ]
  },
  {
   "cell_type": "markdown",
   "id": "ce7a0a6d",
   "metadata": {},
   "source": [
    "### 2. Create a vector with values ranging from 10 to 49."
   ]
  },
  {
   "cell_type": "code",
   "execution_count": 3,
   "id": "136330dc",
   "metadata": {},
   "outputs": [
    {
     "name": "stdout",
     "output_type": "stream",
     "text": [
      "Array:\n",
      "[10 11 12 13 14 15 16 17 18 19 20 21 22 23 24 25 26 27 28 29 30 31 32 33\n",
      " 34 35 36 37 38 39 40 41 42 43 44 45 46 47 48]\n"
     ]
    }
   ],
   "source": [
    "import numpy as np\n",
    "v = np.arange(10,50)\n",
    "print(\"Array:\")\n",
    "print(v)"
   ]
  },
  {
   "cell_type": "markdown",
   "id": "454d062c",
   "metadata": {},
   "source": [
    "### 3. Create a 3x3 matrix with values ranging from 0 to 8"
   ]
  },
  {
   "cell_type": "code",
   "execution_count": 6,
   "id": "fcead4a1",
   "metadata": {},
   "outputs": [
    {
     "name": "stdout",
     "output_type": "stream",
     "text": [
      "[[0 1 2]\n",
      " [3 4 5]\n",
      " [6 7 8]]\n"
     ]
    }
   ],
   "source": [
    "import numpy as np\n",
    "x = np.arange(9).reshape(3,3)\n",
    "print(x)"
   ]
  },
  {
   "cell_type": "markdown",
   "id": "27bdb2f8",
   "metadata": {},
   "source": [
    "### 4. Find indices of non-zero elements from [1,2,0,0,4,0]"
   ]
  },
  {
   "cell_type": "code",
   "execution_count": 8,
   "id": "9c8b713e",
   "metadata": {},
   "outputs": [
    {
     "name": "stdout",
     "output_type": "stream",
     "text": [
      "[1 2 0 0 4 0]\n"
     ]
    },
    {
     "data": {
      "text/plain": [
       "(array([0, 1, 4], dtype=int64),)"
      ]
     },
     "execution_count": 8,
     "metadata": {},
     "output_type": "execute_result"
    }
   ],
   "source": [
    "x = np.array([1,2,0,0,4,0])\n",
    "print(x)\n",
    "np.nonzero(x)"
   ]
  },
  {
   "cell_type": "markdown",
   "id": "e1e63d3c",
   "metadata": {},
   "source": [
    "### 5.Create a 10x10 array with random values and find the minimum and maximum values."
   ]
  },
  {
   "cell_type": "code",
   "execution_count": 16,
   "id": "2da0119b",
   "metadata": {},
   "outputs": [
    {
     "name": "stdout",
     "output_type": "stream",
     "text": [
      "Maximum value is:  0.9956045538037112\n",
      "Minimum value is:  0.011888920360311195\n"
     ]
    }
   ],
   "source": [
    "# exercise 2\n",
    "a=np.random.random((10,10))\n",
    "print('Maximum value is: ',a.max())\n",
    "print('Minimum value is: ',a.min())"
   ]
  },
  {
   "cell_type": "markdown",
   "id": "099b7394",
   "metadata": {},
   "source": [
    "### 6. Create a random vector of size 30 and find the mean value."
   ]
  },
  {
   "cell_type": "code",
   "execution_count": 20,
   "id": "34707ca0",
   "metadata": {},
   "outputs": [
    {
     "name": "stdout",
     "output_type": "stream",
     "text": [
      "Original Array :\n",
      " [0.76596791 0.25665945 0.13686997 0.62135192 0.1100182  0.08448907\n",
      " 0.68397591 0.67054819 0.78744011 0.92754576 0.41813369 0.33313464\n",
      " 0.89534538 0.471442   0.11975854 0.56231291 0.20005489 0.41511531\n",
      " 0.36879921 0.89556209 0.05932032 0.99426055 0.17542099 0.82172143\n",
      " 0.70913005 0.37889966 0.81623774 0.97179713 0.04353196 0.87562977] \n",
      "\n",
      "Mean of given array 0.5190158249647713\n"
     ]
    }
   ],
   "source": [
    "g=np.random.random(30)\n",
    "print(\"Original Array :\\n\",g,\"\\n\")\n",
    "print(\"Mean of given array\",np.mean(g))"
   ]
  },
  {
   "cell_type": "code",
   "execution_count": null,
   "id": "f7d8f3d0",
   "metadata": {},
   "outputs": [],
   "source": []
  }
 ],
 "metadata": {
  "kernelspec": {
   "display_name": "Python 3 (ipykernel)",
   "language": "python",
   "name": "python3"
  },
  "language_info": {
   "codemirror_mode": {
    "name": "ipython",
    "version": 3
   },
   "file_extension": ".py",
   "mimetype": "text/x-python",
   "name": "python",
   "nbconvert_exporter": "python",
   "pygments_lexer": "ipython3",
   "version": "3.10.0"
  }
 },
 "nbformat": 4,
 "nbformat_minor": 5
}
